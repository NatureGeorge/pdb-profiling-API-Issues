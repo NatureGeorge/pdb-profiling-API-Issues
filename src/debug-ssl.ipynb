{
 "metadata": {
  "language_info": {
   "codemirror_mode": {
    "name": "ipython",
    "version": 3
   },
   "file_extension": ".py",
   "mimetype": "text/x-python",
   "name": "python",
   "nbconvert_exporter": "python",
   "pygments_lexer": "ipython3",
   "version": "3.7.9-final"
  },
  "orig_nbformat": 2,
  "kernelspec": {
   "name": "python3",
   "display_name": "Python 3.7.9 64-bit (conda)",
   "metadata": {
    "interpreter": {
     "hash": "2266c607543d224cb119288ea55888d6fda87cc9a4c78c02ed099d39082a76ce"
    }
   }
  }
 },
 "nbformat": 4,
 "nbformat_minor": 2,
 "cells": [
  {
   "cell_type": "code",
   "execution_count": null,
   "metadata": {},
   "outputs": [],
   "source": [
    "!pip install pdb-profiling==0.2.7a3"
   ]
  },
  {
   "cell_type": "code",
   "execution_count": 1,
   "metadata": {},
   "outputs": [],
   "source": [
    "# import sys; sys.path.append('C:/GitWorks/pdb-profiling')\n",
    "\n",
    "from pdb_profiling import default_config\n",
    "\n",
    "default_config()  # 'C:/GitWorks/temp/20210107'"
   ]
  },
  {
   "cell_type": "code",
   "execution_count": 2,
   "metadata": {},
   "outputs": [],
   "source": [
    "from pdb_profiling.processors import *"
   ]
  },
  {
   "cell_type": "code",
   "execution_count": 3,
   "metadata": {},
   "outputs": [
    {
     "output_type": "stream",
     "name": "stdout",
     "text": [
      "Wall time: 182 ms\n"
     ]
    },
    {
     "output_type": "execute_result",
     "data": {
      "text/plain": [
       "    assembly_id struct_asym_id oper_expression  model_id  asym_id_rank  \\\n",
       "0             1              A           [\"1\"]         1             1   \n",
       "1             1              C           [\"1\"]         1             1   \n",
       "2             1              D           [\"1\"]         1             1   \n",
       "3             1              G           [\"1\"]         1             1   \n",
       "4             1              H           [\"1\"]         1             1   \n",
       "5             1              I           [\"1\"]         1             1   \n",
       "6             1              J           [\"1\"]         1             1   \n",
       "7             1              K           [\"1\"]         1             1   \n",
       "8             1              L           [\"1\"]         1             1   \n",
       "9             1              M           [\"1\"]         1             1   \n",
       "10            1              N           [\"1\"]         1             1   \n",
       "11            1              O           [\"1\"]         1             1   \n",
       "12            1              P           [\"1\"]         1             1   \n",
       "13            1              Q           [\"1\"]         1             1   \n",
       "14            1              R           [\"1\"]         1             1   \n",
       "15            1             EA           [\"1\"]         1             1   \n",
       "16            2              B           [\"1\"]         1             1   \n",
       "17            2              E           [\"1\"]         1             1   \n",
       "18            2              F           [\"1\"]         1             1   \n",
       "19            2              S           [\"1\"]         1             1   \n",
       "20            2              T           [\"1\"]         1             1   \n",
       "21            2              U           [\"1\"]         1             1   \n",
       "22            2              V           [\"1\"]         1             1   \n",
       "23            2              W           [\"1\"]         1             1   \n",
       "24            2              X           [\"1\"]         1             1   \n",
       "25            2              Y           [\"1\"]         1             1   \n",
       "26            2              Z           [\"1\"]         1             1   \n",
       "27            2             AA           [\"1\"]         1             1   \n",
       "28            2             BA           [\"1\"]         1             1   \n",
       "29            2             CA           [\"1\"]         1             1   \n",
       "30            2             DA           [\"1\"]         1             1   \n",
       "31            2             FA           [\"1\"]         1             1   \n",
       "\n",
       "   symmetry_operation symmetry_id  \n",
       "0           [\"x,y,z\"]   [\"1_555\"]  \n",
       "1           [\"x,y,z\"]   [\"1_555\"]  \n",
       "2           [\"x,y,z\"]   [\"1_555\"]  \n",
       "3           [\"x,y,z\"]   [\"1_555\"]  \n",
       "4           [\"x,y,z\"]   [\"1_555\"]  \n",
       "5           [\"x,y,z\"]   [\"1_555\"]  \n",
       "6           [\"x,y,z\"]   [\"1_555\"]  \n",
       "7           [\"x,y,z\"]   [\"1_555\"]  \n",
       "8           [\"x,y,z\"]   [\"1_555\"]  \n",
       "9           [\"x,y,z\"]   [\"1_555\"]  \n",
       "10          [\"x,y,z\"]   [\"1_555\"]  \n",
       "11          [\"x,y,z\"]   [\"1_555\"]  \n",
       "12          [\"x,y,z\"]   [\"1_555\"]  \n",
       "13          [\"x,y,z\"]   [\"1_555\"]  \n",
       "14          [\"x,y,z\"]   [\"1_555\"]  \n",
       "15          [\"x,y,z\"]   [\"1_555\"]  \n",
       "16          [\"x,y,z\"]   [\"1_555\"]  \n",
       "17          [\"x,y,z\"]   [\"1_555\"]  \n",
       "18          [\"x,y,z\"]   [\"1_555\"]  \n",
       "19          [\"x,y,z\"]   [\"1_555\"]  \n",
       "20          [\"x,y,z\"]   [\"1_555\"]  \n",
       "21          [\"x,y,z\"]   [\"1_555\"]  \n",
       "22          [\"x,y,z\"]   [\"1_555\"]  \n",
       "23          [\"x,y,z\"]   [\"1_555\"]  \n",
       "24          [\"x,y,z\"]   [\"1_555\"]  \n",
       "25          [\"x,y,z\"]   [\"1_555\"]  \n",
       "26          [\"x,y,z\"]   [\"1_555\"]  \n",
       "27          [\"x,y,z\"]   [\"1_555\"]  \n",
       "28          [\"x,y,z\"]   [\"1_555\"]  \n",
       "29          [\"x,y,z\"]   [\"1_555\"]  \n",
       "30          [\"x,y,z\"]   [\"1_555\"]  \n",
       "31          [\"x,y,z\"]   [\"1_555\"]  "
      ],
      "text/html": "<div>\n<style scoped>\n    .dataframe tbody tr th:only-of-type {\n        vertical-align: middle;\n    }\n\n    .dataframe tbody tr th {\n        vertical-align: top;\n    }\n\n    .dataframe thead th {\n        text-align: right;\n    }\n</style>\n<table border=\"1\" class=\"dataframe\">\n  <thead>\n    <tr style=\"text-align: right;\">\n      <th></th>\n      <th>assembly_id</th>\n      <th>struct_asym_id</th>\n      <th>oper_expression</th>\n      <th>model_id</th>\n      <th>asym_id_rank</th>\n      <th>symmetry_operation</th>\n      <th>symmetry_id</th>\n    </tr>\n  </thead>\n  <tbody>\n    <tr>\n      <th>0</th>\n      <td>1</td>\n      <td>A</td>\n      <td>[\"1\"]</td>\n      <td>1</td>\n      <td>1</td>\n      <td>[\"x,y,z\"]</td>\n      <td>[\"1_555\"]</td>\n    </tr>\n    <tr>\n      <th>1</th>\n      <td>1</td>\n      <td>C</td>\n      <td>[\"1\"]</td>\n      <td>1</td>\n      <td>1</td>\n      <td>[\"x,y,z\"]</td>\n      <td>[\"1_555\"]</td>\n    </tr>\n    <tr>\n      <th>2</th>\n      <td>1</td>\n      <td>D</td>\n      <td>[\"1\"]</td>\n      <td>1</td>\n      <td>1</td>\n      <td>[\"x,y,z\"]</td>\n      <td>[\"1_555\"]</td>\n    </tr>\n    <tr>\n      <th>3</th>\n      <td>1</td>\n      <td>G</td>\n      <td>[\"1\"]</td>\n      <td>1</td>\n      <td>1</td>\n      <td>[\"x,y,z\"]</td>\n      <td>[\"1_555\"]</td>\n    </tr>\n    <tr>\n      <th>4</th>\n      <td>1</td>\n      <td>H</td>\n      <td>[\"1\"]</td>\n      <td>1</td>\n      <td>1</td>\n      <td>[\"x,y,z\"]</td>\n      <td>[\"1_555\"]</td>\n    </tr>\n    <tr>\n      <th>5</th>\n      <td>1</td>\n      <td>I</td>\n      <td>[\"1\"]</td>\n      <td>1</td>\n      <td>1</td>\n      <td>[\"x,y,z\"]</td>\n      <td>[\"1_555\"]</td>\n    </tr>\n    <tr>\n      <th>6</th>\n      <td>1</td>\n      <td>J</td>\n      <td>[\"1\"]</td>\n      <td>1</td>\n      <td>1</td>\n      <td>[\"x,y,z\"]</td>\n      <td>[\"1_555\"]</td>\n    </tr>\n    <tr>\n      <th>7</th>\n      <td>1</td>\n      <td>K</td>\n      <td>[\"1\"]</td>\n      <td>1</td>\n      <td>1</td>\n      <td>[\"x,y,z\"]</td>\n      <td>[\"1_555\"]</td>\n    </tr>\n    <tr>\n      <th>8</th>\n      <td>1</td>\n      <td>L</td>\n      <td>[\"1\"]</td>\n      <td>1</td>\n      <td>1</td>\n      <td>[\"x,y,z\"]</td>\n      <td>[\"1_555\"]</td>\n    </tr>\n    <tr>\n      <th>9</th>\n      <td>1</td>\n      <td>M</td>\n      <td>[\"1\"]</td>\n      <td>1</td>\n      <td>1</td>\n      <td>[\"x,y,z\"]</td>\n      <td>[\"1_555\"]</td>\n    </tr>\n    <tr>\n      <th>10</th>\n      <td>1</td>\n      <td>N</td>\n      <td>[\"1\"]</td>\n      <td>1</td>\n      <td>1</td>\n      <td>[\"x,y,z\"]</td>\n      <td>[\"1_555\"]</td>\n    </tr>\n    <tr>\n      <th>11</th>\n      <td>1</td>\n      <td>O</td>\n      <td>[\"1\"]</td>\n      <td>1</td>\n      <td>1</td>\n      <td>[\"x,y,z\"]</td>\n      <td>[\"1_555\"]</td>\n    </tr>\n    <tr>\n      <th>12</th>\n      <td>1</td>\n      <td>P</td>\n      <td>[\"1\"]</td>\n      <td>1</td>\n      <td>1</td>\n      <td>[\"x,y,z\"]</td>\n      <td>[\"1_555\"]</td>\n    </tr>\n    <tr>\n      <th>13</th>\n      <td>1</td>\n      <td>Q</td>\n      <td>[\"1\"]</td>\n      <td>1</td>\n      <td>1</td>\n      <td>[\"x,y,z\"]</td>\n      <td>[\"1_555\"]</td>\n    </tr>\n    <tr>\n      <th>14</th>\n      <td>1</td>\n      <td>R</td>\n      <td>[\"1\"]</td>\n      <td>1</td>\n      <td>1</td>\n      <td>[\"x,y,z\"]</td>\n      <td>[\"1_555\"]</td>\n    </tr>\n    <tr>\n      <th>15</th>\n      <td>1</td>\n      <td>EA</td>\n      <td>[\"1\"]</td>\n      <td>1</td>\n      <td>1</td>\n      <td>[\"x,y,z\"]</td>\n      <td>[\"1_555\"]</td>\n    </tr>\n    <tr>\n      <th>16</th>\n      <td>2</td>\n      <td>B</td>\n      <td>[\"1\"]</td>\n      <td>1</td>\n      <td>1</td>\n      <td>[\"x,y,z\"]</td>\n      <td>[\"1_555\"]</td>\n    </tr>\n    <tr>\n      <th>17</th>\n      <td>2</td>\n      <td>E</td>\n      <td>[\"1\"]</td>\n      <td>1</td>\n      <td>1</td>\n      <td>[\"x,y,z\"]</td>\n      <td>[\"1_555\"]</td>\n    </tr>\n    <tr>\n      <th>18</th>\n      <td>2</td>\n      <td>F</td>\n      <td>[\"1\"]</td>\n      <td>1</td>\n      <td>1</td>\n      <td>[\"x,y,z\"]</td>\n      <td>[\"1_555\"]</td>\n    </tr>\n    <tr>\n      <th>19</th>\n      <td>2</td>\n      <td>S</td>\n      <td>[\"1\"]</td>\n      <td>1</td>\n      <td>1</td>\n      <td>[\"x,y,z\"]</td>\n      <td>[\"1_555\"]</td>\n    </tr>\n    <tr>\n      <th>20</th>\n      <td>2</td>\n      <td>T</td>\n      <td>[\"1\"]</td>\n      <td>1</td>\n      <td>1</td>\n      <td>[\"x,y,z\"]</td>\n      <td>[\"1_555\"]</td>\n    </tr>\n    <tr>\n      <th>21</th>\n      <td>2</td>\n      <td>U</td>\n      <td>[\"1\"]</td>\n      <td>1</td>\n      <td>1</td>\n      <td>[\"x,y,z\"]</td>\n      <td>[\"1_555\"]</td>\n    </tr>\n    <tr>\n      <th>22</th>\n      <td>2</td>\n      <td>V</td>\n      <td>[\"1\"]</td>\n      <td>1</td>\n      <td>1</td>\n      <td>[\"x,y,z\"]</td>\n      <td>[\"1_555\"]</td>\n    </tr>\n    <tr>\n      <th>23</th>\n      <td>2</td>\n      <td>W</td>\n      <td>[\"1\"]</td>\n      <td>1</td>\n      <td>1</td>\n      <td>[\"x,y,z\"]</td>\n      <td>[\"1_555\"]</td>\n    </tr>\n    <tr>\n      <th>24</th>\n      <td>2</td>\n      <td>X</td>\n      <td>[\"1\"]</td>\n      <td>1</td>\n      <td>1</td>\n      <td>[\"x,y,z\"]</td>\n      <td>[\"1_555\"]</td>\n    </tr>\n    <tr>\n      <th>25</th>\n      <td>2</td>\n      <td>Y</td>\n      <td>[\"1\"]</td>\n      <td>1</td>\n      <td>1</td>\n      <td>[\"x,y,z\"]</td>\n      <td>[\"1_555\"]</td>\n    </tr>\n    <tr>\n      <th>26</th>\n      <td>2</td>\n      <td>Z</td>\n      <td>[\"1\"]</td>\n      <td>1</td>\n      <td>1</td>\n      <td>[\"x,y,z\"]</td>\n      <td>[\"1_555\"]</td>\n    </tr>\n    <tr>\n      <th>27</th>\n      <td>2</td>\n      <td>AA</td>\n      <td>[\"1\"]</td>\n      <td>1</td>\n      <td>1</td>\n      <td>[\"x,y,z\"]</td>\n      <td>[\"1_555\"]</td>\n    </tr>\n    <tr>\n      <th>28</th>\n      <td>2</td>\n      <td>BA</td>\n      <td>[\"1\"]</td>\n      <td>1</td>\n      <td>1</td>\n      <td>[\"x,y,z\"]</td>\n      <td>[\"1_555\"]</td>\n    </tr>\n    <tr>\n      <th>29</th>\n      <td>2</td>\n      <td>CA</td>\n      <td>[\"1\"]</td>\n      <td>1</td>\n      <td>1</td>\n      <td>[\"x,y,z\"]</td>\n      <td>[\"1_555\"]</td>\n    </tr>\n    <tr>\n      <th>30</th>\n      <td>2</td>\n      <td>DA</td>\n      <td>[\"1\"]</td>\n      <td>1</td>\n      <td>1</td>\n      <td>[\"x,y,z\"]</td>\n      <td>[\"1_555\"]</td>\n    </tr>\n    <tr>\n      <th>31</th>\n      <td>2</td>\n      <td>FA</td>\n      <td>[\"1\"]</td>\n      <td>1</td>\n      <td>1</td>\n      <td>[\"x,y,z\"]</td>\n      <td>[\"1_555\"]</td>\n    </tr>\n  </tbody>\n</table>\n</div>"
     },
     "metadata": {},
     "execution_count": 3
    }
   ],
   "source": [
    "%%time\n",
    "PDB('6tt1').rd_source_ass_oper_df().result()"
   ]
  },
  {
   "cell_type": "code",
   "execution_count": 4,
   "metadata": {},
   "outputs": [
    {
     "output_type": "stream",
     "name": "stderr",
     "text": [
      " 80%|████████  | 4/5 [00:04<00:00,  1.01it/s]"
     ]
    },
    {
     "output_type": "display_data",
     "data": {
      "text/plain": "<rich.jupyter.JupyterRenderable at 0x215963d0388>",
      "text/html": "<pre style=\"white-space:pre;overflow-x:auto;line-height:normal;font-family:Menlo,'DejaVu Sans Mono',consolas,'Courier New',monospace\"><span style=\"color: #7fbfbf\">[03/07/21 20:24:00] </span><span style=\"color: #800000; font-weight: bold\">ERROR   </span> PDB-Profiling <span style=\"font-weight: bold\">{</span><span style=\"color: #008000\">'headers'</span>: <span style=\"font-weight: bold\">{</span><span style=\"color: #008000\">'Connection'</span>: <span style=\"color: #008000\">'close'</span>, <a href=\"file://C:/GitWorks/pdb-profiling\\pdb_profiling\\fetcher\\webfetch.py\"><span style=\"color: #7f7f7f\">webfetch.py</span></a><span style=\"color: #7f7f7f\">:92</span>\n                             <span style=\"color: #008000\">'Content-Type'</span>: <span style=\"color: #008000\">'application/json'</span><span style=\"font-weight: bold\">}</span>, <span style=\"color: #008000\">'url'</span>: <span style=\"color: #008000\">'http</span>               \n                             <span style=\"color: #008000\">s://www.ebi.ac.uk/pdbe/api/mappings/all_isoforms/</span>               \n                             <span style=\"color: #008000\">Q9NYV9'</span><span style=\"font-weight: bold\">}</span> -&gt; Cannot connect to host                              \n                             www.ebi.ac.uk:<span style=\"color: #000080; font-weight: bold\">443</span> ssl:default <span style=\"font-weight: bold\">[</span>Connect call                     \n                             failed <span style=\"font-weight: bold\">(</span><span style=\"color: #008000\">'193.62.193.80'</span>, <span style=\"color: #000080; font-weight: bold\">443</span><span style=\"font-weight: bold\">)]</span>                                  \n</pre>\n"
     },
     "metadata": {}
    },
    {
     "output_type": "stream",
     "name": "stderr",
     "text": [
      "100%|██████████| 5/5 [00:26<00:00,  5.22s/it]\n"
     ]
    }
   ],
   "source": [
    "from tqdm import tqdm\r\n",
    "res = SIFTSs(['Q9NX02-4', 'Q9BYR4', 'Q9NYV9', 'Q8N8W4-2', 'Q9NX08']).fetch('pipe_base').run(tqdm).result()"
   ]
  },
  {
   "cell_type": "code",
   "execution_count": 5,
   "metadata": {},
   "outputs": [
    {
     "output_type": "execute_result",
     "data": {
      "text/plain": [
       "[None, None, None, None, None]"
      ]
     },
     "metadata": {},
     "execution_count": 5
    }
   ],
   "source": [
    "res"
   ]
  },
  {
   "cell_type": "code",
   "execution_count": null,
   "metadata": {},
   "outputs": [],
   "source": []
  }
 ]
}
